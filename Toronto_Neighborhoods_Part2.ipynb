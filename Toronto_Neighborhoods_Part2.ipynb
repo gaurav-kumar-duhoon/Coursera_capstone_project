{
    "nbformat_minor": 1, 
    "cells": [
        {
            "source": "<h1>Segmenting and Clustering Neighborhoods in the city of Toronto, Canada</h1>", 
            "cell_type": "markdown", 
            "metadata": {
                "collapsed": true
            }
        }, 
        {
            "source": "<h3>Data Scraping</h3>", 
            "cell_type": "markdown", 
            "metadata": {}
        }, 
        {
            "execution_count": 1, 
            "cell_type": "code", 
            "metadata": {}, 
            "outputs": [], 
            "source": "from bs4 import BeautifulSoup\nimport urllib3.request\nimport pandas as pd\nimport numpy as np\nfrom sklearn.cluster import KMeans\nfrom geopy.geocoders import Nominatim\n#import folium\nimport os\nimport requests\nimport json\nfrom pandas.io.json import json_normalize\nimport matplotlib.cm as cm\nimport matplotlib.colors as colors"
        }, 
        {
            "source": "<li>Input data is obtained from Wikipedia via http request.</li>\n<li>\"BeatifulSoup\" object is created.</li>", 
            "cell_type": "markdown", 
            "metadata": {}
        }, 
        {
            "execution_count": 2, 
            "cell_type": "code", 
            "metadata": {}, 
            "outputs": [
                {
                    "output_type": "stream", 
                    "name": "stderr", 
                    "text": "/opt/conda/envs/DSX-Python35/lib/python3.5/site-packages/urllib3/connectionpool.py:858: InsecureRequestWarning: Unverified HTTPS request is being made. Adding certificate verification is strongly advised. See: https://urllib3.readthedocs.io/en/latest/advanced-usage.html#ssl-warnings\n  InsecureRequestWarning)\n"
                }
            ], 
            "source": "page_url = \"https://en.wikipedia.org/wiki/List_of_postal_codes_of_Canada:_M\"\n# if you are behind a firewall set the proper url, including protocol, host and port.\n#   (ex: http://internal-proxy:80)\nproxy_url = \"\"\n\nif proxy_url.strip() != \"\":\n    # using proxy\n    http = urllib3.ProxyManager(proxy_url)\nelse:\n    # direct internet connection\n    http = urllib3.PoolManager()\n\nreq = http.request('GET', page_url)\nsoup = BeautifulSoup(req.data, 'html.parser')"
        }, 
        {
            "source": "<li>HTML post codes table is parsed</li>\n<li>Rows with 'Not assigned' borough are dropped.</li>\n<li>Pandas dataframe is constructed.</li>", 
            "cell_type": "markdown", 
            "metadata": {}
        }, 
        {
            "execution_count": 3, 
            "cell_type": "code", 
            "metadata": {}, 
            "outputs": [
                {
                    "execution_count": 3, 
                    "metadata": {}, 
                    "data": {
                        "text/html": "<div>\n<style scoped>\n    .dataframe tbody tr th:only-of-type {\n        vertical-align: middle;\n    }\n\n    .dataframe tbody tr th {\n        vertical-align: top;\n    }\n\n    .dataframe thead th {\n        text-align: right;\n    }\n</style>\n<table border=\"1\" class=\"dataframe\">\n  <thead>\n    <tr style=\"text-align: right;\">\n      <th></th>\n      <th>PostalCode</th>\n      <th>Borough</th>\n      <th>Neighborhood</th>\n    </tr>\n  </thead>\n  <tbody>\n    <tr>\n      <th>0</th>\n      <td>M3A</td>\n      <td>North York</td>\n      <td>Parkwoods</td>\n    </tr>\n    <tr>\n      <th>1</th>\n      <td>M4A</td>\n      <td>North York</td>\n      <td>Victoria Village</td>\n    </tr>\n    <tr>\n      <th>2</th>\n      <td>M5A</td>\n      <td>Downtown Toronto</td>\n      <td>Harbourfront</td>\n    </tr>\n    <tr>\n      <th>3</th>\n      <td>M5A</td>\n      <td>Downtown Toronto</td>\n      <td>Regent Park</td>\n    </tr>\n    <tr>\n      <th>4</th>\n      <td>M6A</td>\n      <td>North York</td>\n      <td>Lawrence Heights</td>\n    </tr>\n  </tbody>\n</table>\n</div>", 
                        "text/plain": "  PostalCode           Borough      Neighborhood\n0        M3A        North York         Parkwoods\n1        M4A        North York  Victoria Village\n2        M5A  Downtown Toronto      Harbourfront\n3        M5A  Downtown Toronto       Regent Park\n4        M6A        North York  Lawrence Heights"
                    }, 
                    "output_type": "execute_result"
                }
            ], 
            "source": "# locate postcode table\ntoronto_table = soup.find('table',{'class':'wikitable sortable'})\n\n# process table rows and build raw_df\nraw_df = pd.DataFrame(columns=['PostalCode', 'Borough', 'Neighborhood'])\nrows = toronto_table.findAll('tr')\nfor row in rows:\n    row_items = row.findAll('td')\n    if len(row_items) > 0:\n        postcode = row_items[0].text.strip()\n        borough = row_items[1].text.strip()\n        if borough.lower() != \"not assigned\":\n            neighborhood = row_items[2].text.strip()\n            raw_df = raw_df.append({'PostalCode':postcode, \n                                    'Borough':borough, \n                                    'Neighborhood':neighborhood}, \n                                   ignore_index = True)\n\nraw_df.head()"
        }, 
        {
            "source": "<li>Combine neighborhoods belonging to the same borough in one row.</li>\n<li>Replace 'Not assigned' neighborhoods with Borougth's name.</li>", 
            "cell_type": "markdown", 
            "metadata": {}
        }, 
        {
            "execution_count": 4, 
            "cell_type": "code", 
            "metadata": {}, 
            "outputs": [
                {
                    "output_type": "stream", 
                    "name": "stdout", 
                    "text": "(103, 3)\n"
                }, 
                {
                    "execution_count": 4, 
                    "metadata": {}, 
                    "data": {
                        "text/html": "<div>\n<style scoped>\n    .dataframe tbody tr th:only-of-type {\n        vertical-align: middle;\n    }\n\n    .dataframe tbody tr th {\n        vertical-align: top;\n    }\n\n    .dataframe thead th {\n        text-align: right;\n    }\n</style>\n<table border=\"1\" class=\"dataframe\">\n  <thead>\n    <tr style=\"text-align: right;\">\n      <th></th>\n      <th>PostalCode</th>\n      <th>Borough</th>\n      <th>Neighborhood</th>\n    </tr>\n  </thead>\n  <tbody>\n    <tr>\n      <th>0</th>\n      <td>M1B</td>\n      <td>Scarborough</td>\n      <td>Rouge, Malvern</td>\n    </tr>\n    <tr>\n      <th>1</th>\n      <td>M1C</td>\n      <td>Scarborough</td>\n      <td>Highland Creek, Rouge Hill, Port Union</td>\n    </tr>\n    <tr>\n      <th>2</th>\n      <td>M1E</td>\n      <td>Scarborough</td>\n      <td>Guildwood, Morningside, West Hill</td>\n    </tr>\n    <tr>\n      <th>3</th>\n      <td>M1G</td>\n      <td>Scarborough</td>\n      <td>Woburn</td>\n    </tr>\n    <tr>\n      <th>4</th>\n      <td>M1H</td>\n      <td>Scarborough</td>\n      <td>Cedarbrae</td>\n    </tr>\n  </tbody>\n</table>\n</div>", 
                        "text/plain": "  PostalCode      Borough                            Neighborhood\n0        M1B  Scarborough                          Rouge, Malvern\n1        M1C  Scarborough  Highland Creek, Rouge Hill, Port Union\n2        M1E  Scarborough       Guildwood, Morningside, West Hill\n3        M1G  Scarborough                                  Woburn\n4        M1H  Scarborough                               Cedarbrae"
                    }, 
                    "output_type": "execute_result"
                }
            ], 
            "source": "grouped = []\nfor name, group in raw_df.groupby(['PostalCode', 'Borough'])['Neighborhood']:\n    nblist = ''.join(str(x) + \", \" for x in group.tolist()).strip(\", \")\n    if nblist == \"Not assigned\":\n        nblist = name[1]\n    grouped.append((name[0], name[1], nblist))\n\ntoronto_df = pd.DataFrame(grouped, columns=['PostalCode', 'Borough', 'Neighborhood'])\nprint(toronto_df.shape)\ntoronto_df.head()"
        }, 
        {
            "execution_count": 5, 
            "cell_type": "code", 
            "metadata": {}, 
            "outputs": [
                {
                    "execution_count": 5, 
                    "metadata": {}, 
                    "data": {
                        "text/html": "<div>\n<style scoped>\n    .dataframe tbody tr th:only-of-type {\n        vertical-align: middle;\n    }\n\n    .dataframe tbody tr th {\n        vertical-align: top;\n    }\n\n    .dataframe thead th {\n        text-align: right;\n    }\n</style>\n<table border=\"1\" class=\"dataframe\">\n  <thead>\n    <tr style=\"text-align: right;\">\n      <th></th>\n      <th>PostalCode</th>\n      <th>Borough</th>\n      <th>Neighborhood</th>\n    </tr>\n  </thead>\n  <tbody>\n  </tbody>\n</table>\n</div>", 
                        "text/plain": "Empty DataFrame\nColumns: [PostalCode, Borough, Neighborhood]\nIndex: []"
                    }, 
                    "output_type": "execute_result"
                }
            ], 
            "source": "# just for verification. This query should return no rows.\ntoronto_df.query(\"Neighborhood == 'Not assigned'\")"
        }, 
        {
            "execution_count": 6, 
            "cell_type": "code", 
            "metadata": {}, 
            "outputs": [
                {
                    "execution_count": 6, 
                    "metadata": {}, 
                    "data": {
                        "text/html": "<div>\n<style scoped>\n    .dataframe tbody tr th:only-of-type {\n        vertical-align: middle;\n    }\n\n    .dataframe tbody tr th {\n        vertical-align: top;\n    }\n\n    .dataframe thead th {\n        text-align: right;\n    }\n</style>\n<table border=\"1\" class=\"dataframe\">\n  <thead>\n    <tr style=\"text-align: right;\">\n      <th></th>\n      <th>PostalCode</th>\n      <th>Borough</th>\n      <th>Neighborhood</th>\n    </tr>\n  </thead>\n  <tbody>\n    <tr>\n      <th>85</th>\n      <td>M7A</td>\n      <td>Queen's Park</td>\n      <td>Queen's Park</td>\n    </tr>\n  </tbody>\n</table>\n</div>", 
                        "text/plain": "   PostalCode       Borough  Neighborhood\n85        M7A  Queen's Park  Queen's Park"
                    }, 
                    "output_type": "execute_result"
                }
            ], 
            "source": "\n# verify a known 'Not assigned' Neighborhood case, it should be equal to Borough. \ntoronto_df.query(\"PostalCode == 'M7A'\")"
        }, 
        {
            "source": "<li>Final assignament requirement: dataframe shape is shown.</li>", 
            "cell_type": "markdown", 
            "metadata": {}
        }, 
        {
            "execution_count": 7, 
            "cell_type": "code", 
            "metadata": {}, 
            "outputs": [
                {
                    "execution_count": 7, 
                    "metadata": {}, 
                    "data": {
                        "text/plain": "(103, 3)"
                    }, 
                    "output_type": "execute_result"
                }
            ], 
            "source": "toronto_df.shape"
        }, 
        {
            "source": "<h3>Geocoding</h3>", 
            "cell_type": "markdown", 
            "metadata": {}
        }, 
        {
            "execution_count": 8, 
            "cell_type": "code", 
            "metadata": {}, 
            "outputs": [
                {
                    "execution_count": 8, 
                    "metadata": {}, 
                    "data": {
                        "text/html": "<div>\n<style scoped>\n    .dataframe tbody tr th:only-of-type {\n        vertical-align: middle;\n    }\n\n    .dataframe tbody tr th {\n        vertical-align: top;\n    }\n\n    .dataframe thead th {\n        text-align: right;\n    }\n</style>\n<table border=\"1\" class=\"dataframe\">\n  <thead>\n    <tr style=\"text-align: right;\">\n      <th></th>\n      <th>Postal Code</th>\n      <th>Latitude</th>\n      <th>Longitude</th>\n    </tr>\n  </thead>\n  <tbody>\n    <tr>\n      <th>0</th>\n      <td>M1B</td>\n      <td>43.806686</td>\n      <td>-79.194353</td>\n    </tr>\n    <tr>\n      <th>1</th>\n      <td>M1C</td>\n      <td>43.784535</td>\n      <td>-79.160497</td>\n    </tr>\n    <tr>\n      <th>2</th>\n      <td>M1E</td>\n      <td>43.763573</td>\n      <td>-79.188711</td>\n    </tr>\n    <tr>\n      <th>3</th>\n      <td>M1G</td>\n      <td>43.770992</td>\n      <td>-79.216917</td>\n    </tr>\n    <tr>\n      <th>4</th>\n      <td>M1H</td>\n      <td>43.773136</td>\n      <td>-79.239476</td>\n    </tr>\n  </tbody>\n</table>\n</div>", 
                        "text/plain": "  Postal Code   Latitude  Longitude\n0         M1B  43.806686 -79.194353\n1         M1C  43.784535 -79.160497\n2         M1E  43.763573 -79.188711\n3         M1G  43.770992 -79.216917\n4         M1H  43.773136 -79.239476"
                    }, 
                    "output_type": "execute_result"
                }
            ], 
            "source": "geo_reader = pd.read_csv('http://cocl.us/Geospatial_data')\ngeo_reader.head()"
        }, 
        {
            "execution_count": 9, 
            "cell_type": "code", 
            "metadata": {}, 
            "outputs": [
                {
                    "execution_count": 9, 
                    "metadata": {}, 
                    "data": {
                        "text/html": "<div>\n<style scoped>\n    .dataframe tbody tr th:only-of-type {\n        vertical-align: middle;\n    }\n\n    .dataframe tbody tr th {\n        vertical-align: top;\n    }\n\n    .dataframe thead th {\n        text-align: right;\n    }\n</style>\n<table border=\"1\" class=\"dataframe\">\n  <thead>\n    <tr style=\"text-align: right;\">\n      <th></th>\n      <th>PostalCode</th>\n      <th>Borough</th>\n      <th>Neighborhood</th>\n      <th>Latitude</th>\n      <th>Longitude</th>\n    </tr>\n  </thead>\n  <tbody>\n    <tr>\n      <th>0</th>\n      <td>M1B</td>\n      <td>Scarborough</td>\n      <td>Rouge, Malvern</td>\n      <td>43.806686</td>\n      <td>-79.194353</td>\n    </tr>\n    <tr>\n      <th>1</th>\n      <td>M1C</td>\n      <td>Scarborough</td>\n      <td>Highland Creek, Rouge Hill, Port Union</td>\n      <td>43.784535</td>\n      <td>-79.160497</td>\n    </tr>\n    <tr>\n      <th>2</th>\n      <td>M1E</td>\n      <td>Scarborough</td>\n      <td>Guildwood, Morningside, West Hill</td>\n      <td>43.763573</td>\n      <td>-79.188711</td>\n    </tr>\n    <tr>\n      <th>3</th>\n      <td>M1G</td>\n      <td>Scarborough</td>\n      <td>Woburn</td>\n      <td>43.770992</td>\n      <td>-79.216917</td>\n    </tr>\n    <tr>\n      <th>4</th>\n      <td>M1H</td>\n      <td>Scarborough</td>\n      <td>Cedarbrae</td>\n      <td>43.773136</td>\n      <td>-79.239476</td>\n    </tr>\n  </tbody>\n</table>\n</div>", 
                        "text/plain": "  PostalCode      Borough                            Neighborhood   Latitude  \\\n0        M1B  Scarborough                          Rouge, Malvern  43.806686   \n1        M1C  Scarborough  Highland Creek, Rouge Hill, Port Union  43.784535   \n2        M1E  Scarborough       Guildwood, Morningside, West Hill  43.763573   \n3        M1G  Scarborough                                  Woburn  43.770992   \n4        M1H  Scarborough                               Cedarbrae  43.773136   \n\n   Longitude  \n0 -79.194353  \n1 -79.160497  \n2 -79.188711  \n3 -79.216917  \n4 -79.239476  "
                    }, 
                    "output_type": "execute_result"
                }
            ], 
            "source": "#geo_reader = pd.read_csv('http://cocl.us/Geospatial_data')\nfor row in geo_reader.iterrows():\n    #print(', '.join(row))    \n    toronto_df.loc[toronto_df['PostalCode'] == row[1]['Postal Code'], 'Latitude'] = float(row[1]['Latitude'])        \n    toronto_df.loc[toronto_df['PostalCode'] == row[1]['Postal Code'], 'Longitude'] = float(row[1]['Longitude'])\n        \ntoronto_df.head()"
        }, 
        {
            "execution_count": 10, 
            "cell_type": "code", 
            "metadata": {}, 
            "outputs": [
                {
                    "execution_count": 10, 
                    "metadata": {}, 
                    "data": {
                        "text/plain": "(103, 5)"
                    }, 
                    "output_type": "execute_result"
                }
            ], 
            "source": "toronto_df.shape"
        }, 
        {
            "execution_count": null, 
            "cell_type": "code", 
            "metadata": {}, 
            "outputs": [], 
            "source": ""
        }, 
        {
            "source": "<h3>Neighborhoods Clustering</h3>", 
            "cell_type": "markdown", 
            "metadata": {}
        }, 
        {
            "execution_count": 11, 
            "cell_type": "code", 
            "metadata": {}, 
            "outputs": [
                {
                    "output_type": "stream", 
                    "name": "stdout", 
                    "text": "(38, 5)\n"
                }, 
                {
                    "execution_count": 11, 
                    "metadata": {}, 
                    "data": {
                        "text/html": "<div>\n<style scoped>\n    .dataframe tbody tr th:only-of-type {\n        vertical-align: middle;\n    }\n\n    .dataframe tbody tr th {\n        vertical-align: top;\n    }\n\n    .dataframe thead th {\n        text-align: right;\n    }\n</style>\n<table border=\"1\" class=\"dataframe\">\n  <thead>\n    <tr style=\"text-align: right;\">\n      <th></th>\n      <th>PostalCode</th>\n      <th>Borough</th>\n      <th>Neighborhood</th>\n      <th>Latitude</th>\n      <th>Longitude</th>\n    </tr>\n  </thead>\n  <tbody>\n    <tr>\n      <th>0</th>\n      <td>M4E</td>\n      <td>East Toronto</td>\n      <td>The Beaches</td>\n      <td>43.676357</td>\n      <td>-79.293031</td>\n    </tr>\n    <tr>\n      <th>1</th>\n      <td>M4K</td>\n      <td>East Toronto</td>\n      <td>The Danforth West, Riverdale</td>\n      <td>43.679557</td>\n      <td>-79.352188</td>\n    </tr>\n    <tr>\n      <th>2</th>\n      <td>M4L</td>\n      <td>East Toronto</td>\n      <td>The Beaches West, India Bazaar</td>\n      <td>43.668999</td>\n      <td>-79.315572</td>\n    </tr>\n    <tr>\n      <th>3</th>\n      <td>M4M</td>\n      <td>East Toronto</td>\n      <td>Studio District</td>\n      <td>43.659526</td>\n      <td>-79.340923</td>\n    </tr>\n    <tr>\n      <th>4</th>\n      <td>M4N</td>\n      <td>Central Toronto</td>\n      <td>Lawrence Park</td>\n      <td>43.728020</td>\n      <td>-79.388790</td>\n    </tr>\n  </tbody>\n</table>\n</div>", 
                        "text/plain": "  PostalCode          Borough                    Neighborhood   Latitude  \\\n0        M4E     East Toronto                     The Beaches  43.676357   \n1        M4K     East Toronto    The Danforth West, Riverdale  43.679557   \n2        M4L     East Toronto  The Beaches West, India Bazaar  43.668999   \n3        M4M     East Toronto                 Studio District  43.659526   \n4        M4N  Central Toronto                   Lawrence Park  43.728020   \n\n   Longitude  \n0 -79.293031  \n1 -79.352188  \n2 -79.315572  \n3 -79.340923  \n4 -79.388790  "
                    }, 
                    "output_type": "execute_result"
                }
            ], 
            "source": "toronto_df = toronto_df[toronto_df['Borough'].str.contains('Toronto')].reset_index(drop=True)\nprint(toronto_df.shape)\ntoronto_df.head()"
        }, 
        {
            "execution_count": 12, 
            "cell_type": "code", 
            "metadata": {}, 
            "outputs": [
                {
                    "output_type": "stream", 
                    "name": "stdout", 
                    "text": "The geograpical coordinate of Toronto is 43.653963, -79.387207.\n"
                }
            ], 
            "source": "address = 'Toronto'\ngeolocator = Nominatim()\nlocation = geolocator.geocode(address)\nlatitude = location.latitude\nlongitude = location.longitude\nprint('The geograpical coordinate of {} is {}, {}.'.format(address, latitude, longitude))"
        }, 
        {
            "execution_count": null, 
            "cell_type": "code", 
            "metadata": {}, 
            "outputs": [], 
            "source": "toronto_map = folium.Map(location=[latitude, longitude], zoom_start=11)\n\n# add markers to map\nfor lat, lng, borough, neighborhood in zip(toronto_df['Latitude'], toronto_df['Longitude'], \\\n                                           toronto_df['Borough'], toronto_df['Neighborhood']):\n    label = '{}, {}'.format(neighborhood, borough)\n    label = folium.Popup(label, parse_html=True)\n    folium.CircleMarker(\n        [lat, lng],\n        radius=5,\n        popup=label,\n        color='blue',\n        fill=True,\n        fill_color='#3186cc',\n        fill_opacity=0.7).add_to(toronto_map)  \n    \ntoronto_map"
        }, 
        {
            "execution_count": 15, 
            "cell_type": "code", 
            "metadata": {}, 
            "outputs": [], 
            "source": "# The code was removed by Watson Studio for sharing."
        }, 
        {
            "execution_count": 16, 
            "cell_type": "code", 
            "metadata": {}, 
            "outputs": [], 
            "source": "# function that extracts the category of the venue\ndef get_category_type(row):\n    try:\n        categories_list = row['categories']\n    except:\n        categories_list = row['venue.categories']\n        \n    if len(categories_list) == 0:\n        return None\n    else:\n        return categories_list[0]['name']"
        }, 
        {
            "execution_count": 17, 
            "cell_type": "code", 
            "metadata": {}, 
            "outputs": [], 
            "source": "def getNearbyVenues(names, latitudes, longitudes, radius=500):\n    \n    venues_list=[]\n    for name, lat, lng in zip(names, latitudes, longitudes):\n        #print(name)\n        \n        LIMIT = 100 # limit of number of venues returned by Foursquare API\n        radius = 500    \n        \n        # create the API request URL\n        url = 'https://api.foursquare.com/v2/venues/explore?&client_id={}&client_secret={}&v={}&ll={},{}&radius={}&limit={}'.format(\n            CLIENT_ID, \n            CLIENT_SECRET, \n            VERSION, \n            lat, \n            lng, \n            radius, \n            LIMIT)\n            \n        # make the GET request\n        try:\n            results = requests.get(url).json()[\"response\"]['groups'][0]['items']\n        except:\n            print(\"ERROR: \", url)\n        \n        # return only relevant information for each nearby venue\n        venues_list.append([(\n            name, \n            lat, \n            lng, \n            v['venue']['name'], \n            v['venue']['location']['lat'], \n            v['venue']['location']['lng'],  \n            v['venue']['categories'][0]['name']) for v in results])\n\n    nearby_venues = pd.DataFrame([item for venue_list in venues_list for item in venue_list])\n    nearby_venues.columns = ['Neighborhood', \n                  'Neighborhood Latitude', \n                  'Neighborhood Longitude', \n                  'Venue', \n                  'Venue Latitude', \n                  'Venue Longitude', \n                  'Venue Category']\n    \n    return(nearby_venues)"
        }, 
        {
            "execution_count": 18, 
            "cell_type": "code", 
            "metadata": {}, 
            "outputs": [
                {
                    "output_type": "stream", 
                    "name": "stdout", 
                    "text": "(1700, 7)\n"
                }, 
                {
                    "execution_count": 18, 
                    "metadata": {}, 
                    "data": {
                        "text/html": "<div>\n<style scoped>\n    .dataframe tbody tr th:only-of-type {\n        vertical-align: middle;\n    }\n\n    .dataframe tbody tr th {\n        vertical-align: top;\n    }\n\n    .dataframe thead th {\n        text-align: right;\n    }\n</style>\n<table border=\"1\" class=\"dataframe\">\n  <thead>\n    <tr style=\"text-align: right;\">\n      <th></th>\n      <th>Neighborhood</th>\n      <th>Neighborhood Latitude</th>\n      <th>Neighborhood Longitude</th>\n      <th>Venue</th>\n      <th>Venue Latitude</th>\n      <th>Venue Longitude</th>\n      <th>Venue Category</th>\n    </tr>\n  </thead>\n  <tbody>\n    <tr>\n      <th>0</th>\n      <td>The Beaches</td>\n      <td>43.676357</td>\n      <td>-79.293031</td>\n      <td>The Big Carrot Natural Food Market</td>\n      <td>43.678879</td>\n      <td>-79.297734</td>\n      <td>Health Food Store</td>\n    </tr>\n    <tr>\n      <th>1</th>\n      <td>The Beaches</td>\n      <td>43.676357</td>\n      <td>-79.293031</td>\n      <td>Grover Pub and Grub</td>\n      <td>43.679181</td>\n      <td>-79.297215</td>\n      <td>Pub</td>\n    </tr>\n    <tr>\n      <th>2</th>\n      <td>The Beaches</td>\n      <td>43.676357</td>\n      <td>-79.293031</td>\n      <td>St-Denis Studios Inc.</td>\n      <td>43.675031</td>\n      <td>-79.288022</td>\n      <td>Music Venue</td>\n    </tr>\n    <tr>\n      <th>3</th>\n      <td>The Beaches</td>\n      <td>43.676357</td>\n      <td>-79.293031</td>\n      <td>Upper Beaches</td>\n      <td>43.680563</td>\n      <td>-79.292869</td>\n      <td>Neighborhood</td>\n    </tr>\n    <tr>\n      <th>4</th>\n      <td>The Danforth West, Riverdale</td>\n      <td>43.679557</td>\n      <td>-79.352188</td>\n      <td>Pantheon</td>\n      <td>43.677621</td>\n      <td>-79.351434</td>\n      <td>Greek Restaurant</td>\n    </tr>\n  </tbody>\n</table>\n</div>", 
                        "text/plain": "                   Neighborhood  Neighborhood Latitude  \\\n0                   The Beaches              43.676357   \n1                   The Beaches              43.676357   \n2                   The Beaches              43.676357   \n3                   The Beaches              43.676357   \n4  The Danforth West, Riverdale              43.679557   \n\n   Neighborhood Longitude                               Venue  Venue Latitude  \\\n0              -79.293031  The Big Carrot Natural Food Market       43.678879   \n1              -79.293031                 Grover Pub and Grub       43.679181   \n2              -79.293031               St-Denis Studios Inc.       43.675031   \n3              -79.293031                       Upper Beaches       43.680563   \n4              -79.352188                            Pantheon       43.677621   \n\n   Venue Longitude     Venue Category  \n0       -79.297734  Health Food Store  \n1       -79.297215                Pub  \n2       -79.288022        Music Venue  \n3       -79.292869       Neighborhood  \n4       -79.351434   Greek Restaurant  "
                    }, 
                    "output_type": "execute_result"
                }
            ], 
            "source": "toronto_venues = getNearbyVenues(names=toronto_df['Neighborhood'],\n                                   latitudes=toronto_df['Latitude'],\n                                   longitudes=toronto_df['Longitude']\n                                  )\n\nprint(toronto_venues.shape)\ntoronto_venues.head()"
        }, 
        {
            "execution_count": 19, 
            "cell_type": "code", 
            "metadata": {}, 
            "outputs": [
                {
                    "output_type": "stream", 
                    "name": "stdout", 
                    "text": "There are 236 uniques categories.\n"
                }
            ], 
            "source": "print('There are {} uniques categories.'.format(len(toronto_venues['Venue Category'].unique())))"
        }, 
        {
            "execution_count": 20, 
            "cell_type": "code", 
            "metadata": {}, 
            "outputs": [
                {
                    "output_type": "stream", 
                    "name": "stdout", 
                    "text": "categories dataset shape (1700, 236)\ncategories grouped by neighborhood shape (38, 236)\n"
                }, 
                {
                    "execution_count": 20, 
                    "metadata": {}, 
                    "data": {
                        "text/html": "<div>\n<style scoped>\n    .dataframe tbody tr th:only-of-type {\n        vertical-align: middle;\n    }\n\n    .dataframe tbody tr th {\n        vertical-align: top;\n    }\n\n    .dataframe thead th {\n        text-align: right;\n    }\n</style>\n<table border=\"1\" class=\"dataframe\">\n  <thead>\n    <tr style=\"text-align: right;\">\n      <th></th>\n      <th>Neighborhood</th>\n      <th>Adult Boutique</th>\n      <th>Afghan Restaurant</th>\n      <th>Airport</th>\n      <th>Airport Food Court</th>\n      <th>Airport Gate</th>\n      <th>Airport Lounge</th>\n      <th>Airport Service</th>\n      <th>Airport Terminal</th>\n      <th>American Restaurant</th>\n      <th>...</th>\n      <th>Thrift / Vintage Store</th>\n      <th>Toy / Game Store</th>\n      <th>Trail</th>\n      <th>Train Station</th>\n      <th>Vegetarian / Vegan Restaurant</th>\n      <th>Video Game Store</th>\n      <th>Vietnamese Restaurant</th>\n      <th>Wine Bar</th>\n      <th>Wings Joint</th>\n      <th>Yoga Studio</th>\n    </tr>\n  </thead>\n  <tbody>\n    <tr>\n      <th>0</th>\n      <td>Adelaide, King, Richmond</td>\n      <td>0.0</td>\n      <td>0.0</td>\n      <td>0.000000</td>\n      <td>0.000000</td>\n      <td>0.000000</td>\n      <td>0.000000</td>\n      <td>0.0</td>\n      <td>0.000000</td>\n      <td>0.04</td>\n      <td>...</td>\n      <td>0.0</td>\n      <td>0.0</td>\n      <td>0.0</td>\n      <td>0.0</td>\n      <td>0.010000</td>\n      <td>0.0</td>\n      <td>0.0</td>\n      <td>0.01</td>\n      <td>0.0</td>\n      <td>0.000000</td>\n    </tr>\n    <tr>\n      <th>1</th>\n      <td>Berczy Park</td>\n      <td>0.0</td>\n      <td>0.0</td>\n      <td>0.000000</td>\n      <td>0.000000</td>\n      <td>0.000000</td>\n      <td>0.000000</td>\n      <td>0.0</td>\n      <td>0.000000</td>\n      <td>0.00</td>\n      <td>...</td>\n      <td>0.0</td>\n      <td>0.0</td>\n      <td>0.0</td>\n      <td>0.0</td>\n      <td>0.017544</td>\n      <td>0.0</td>\n      <td>0.0</td>\n      <td>0.00</td>\n      <td>0.0</td>\n      <td>0.000000</td>\n    </tr>\n    <tr>\n      <th>2</th>\n      <td>Brockton, Exhibition Place, Parkdale Village</td>\n      <td>0.0</td>\n      <td>0.0</td>\n      <td>0.000000</td>\n      <td>0.000000</td>\n      <td>0.000000</td>\n      <td>0.000000</td>\n      <td>0.0</td>\n      <td>0.000000</td>\n      <td>0.00</td>\n      <td>...</td>\n      <td>0.0</td>\n      <td>0.0</td>\n      <td>0.0</td>\n      <td>0.0</td>\n      <td>0.000000</td>\n      <td>0.0</td>\n      <td>0.0</td>\n      <td>0.00</td>\n      <td>0.0</td>\n      <td>0.000000</td>\n    </tr>\n    <tr>\n      <th>3</th>\n      <td>Business Reply Mail Processing Centre 969 Eastern</td>\n      <td>0.0</td>\n      <td>0.0</td>\n      <td>0.000000</td>\n      <td>0.000000</td>\n      <td>0.000000</td>\n      <td>0.000000</td>\n      <td>0.0</td>\n      <td>0.000000</td>\n      <td>0.00</td>\n      <td>...</td>\n      <td>0.0</td>\n      <td>0.0</td>\n      <td>0.0</td>\n      <td>0.0</td>\n      <td>0.000000</td>\n      <td>0.0</td>\n      <td>0.0</td>\n      <td>0.00</td>\n      <td>0.0</td>\n      <td>0.058824</td>\n    </tr>\n    <tr>\n      <th>4</th>\n      <td>CN Tower, Bathurst Quay, Island airport, Harbo...</td>\n      <td>0.0</td>\n      <td>0.0</td>\n      <td>0.066667</td>\n      <td>0.066667</td>\n      <td>0.066667</td>\n      <td>0.133333</td>\n      <td>0.2</td>\n      <td>0.133333</td>\n      <td>0.00</td>\n      <td>...</td>\n      <td>0.0</td>\n      <td>0.0</td>\n      <td>0.0</td>\n      <td>0.0</td>\n      <td>0.000000</td>\n      <td>0.0</td>\n      <td>0.0</td>\n      <td>0.00</td>\n      <td>0.0</td>\n      <td>0.000000</td>\n    </tr>\n  </tbody>\n</table>\n<p>5 rows \u00d7 236 columns</p>\n</div>", 
                        "text/plain": "                                        Neighborhood  Adult Boutique  \\\n0                           Adelaide, King, Richmond             0.0   \n1                                        Berczy Park             0.0   \n2       Brockton, Exhibition Place, Parkdale Village             0.0   \n3  Business Reply Mail Processing Centre 969 Eastern             0.0   \n4  CN Tower, Bathurst Quay, Island airport, Harbo...             0.0   \n\n   Afghan Restaurant   Airport  Airport Food Court  Airport Gate  \\\n0                0.0  0.000000            0.000000      0.000000   \n1                0.0  0.000000            0.000000      0.000000   \n2                0.0  0.000000            0.000000      0.000000   \n3                0.0  0.000000            0.000000      0.000000   \n4                0.0  0.066667            0.066667      0.066667   \n\n   Airport Lounge  Airport Service  Airport Terminal  American Restaurant  \\\n0        0.000000              0.0          0.000000                 0.04   \n1        0.000000              0.0          0.000000                 0.00   \n2        0.000000              0.0          0.000000                 0.00   \n3        0.000000              0.0          0.000000                 0.00   \n4        0.133333              0.2          0.133333                 0.00   \n\n      ...       Thrift / Vintage Store  Toy / Game Store  Trail  \\\n0     ...                          0.0               0.0    0.0   \n1     ...                          0.0               0.0    0.0   \n2     ...                          0.0               0.0    0.0   \n3     ...                          0.0               0.0    0.0   \n4     ...                          0.0               0.0    0.0   \n\n   Train Station  Vegetarian / Vegan Restaurant  Video Game Store  \\\n0            0.0                       0.010000               0.0   \n1            0.0                       0.017544               0.0   \n2            0.0                       0.000000               0.0   \n3            0.0                       0.000000               0.0   \n4            0.0                       0.000000               0.0   \n\n   Vietnamese Restaurant  Wine Bar  Wings Joint  Yoga Studio  \n0                    0.0      0.01          0.0     0.000000  \n1                    0.0      0.00          0.0     0.000000  \n2                    0.0      0.00          0.0     0.000000  \n3                    0.0      0.00          0.0     0.058824  \n4                    0.0      0.00          0.0     0.000000  \n\n[5 rows x 236 columns]"
                    }, 
                    "output_type": "execute_result"
                }
            ], 
            "source": "toronto_onehot = pd.get_dummies(toronto_venues[['Venue Category']], prefix=\"\", prefix_sep=\"\")\ntoronto_onehot['Neighborhood'] = toronto_venues['Neighborhood'] \ntoronto_onehot.head()\n\n# add neighborhood column back to dataframe and move column to the first column\ntoronto_onehot['Neighborhood'] = toronto_venues['Neighborhood'] \ncol_index = toronto_onehot.columns.tolist().index('Neighborhood')\ncol_order = [toronto_onehot.columns[col_index]] \\\n                + list(toronto_onehot.columns[0:col_index]) \\\n                + list(toronto_onehot.columns[col_index+1:])\ntoronto_onehot = toronto_onehot[col_order]\nprint(\"categories dataset shape {}\".format(toronto_onehot.shape))\ntoronto_onehot.head()\n\ntoronto_grouped = toronto_onehot.groupby('Neighborhood').mean().reset_index()\nprint(\"categories grouped by neighborhood shape {}\".format(toronto_grouped.shape))\ntoronto_grouped.head()"
        }, 
        {
            "execution_count": 21, 
            "cell_type": "code", 
            "metadata": {}, 
            "outputs": [], 
            "source": "def return_most_common_venues(row, num_top_venues):\n    row_categories = row.iloc[1:]\n    row_categories_sorted = row_categories.sort_values(ascending=False)\n    \n    return row_categories_sorted.index.values[0:num_top_venues]"
        }, 
        {
            "execution_count": 22, 
            "cell_type": "code", 
            "metadata": {}, 
            "outputs": [
                {
                    "output_type": "stream", 
                    "name": "stdout", 
                    "text": "(38, 11)\n"
                }, 
                {
                    "execution_count": 22, 
                    "metadata": {}, 
                    "data": {
                        "text/html": "<div>\n<style scoped>\n    .dataframe tbody tr th:only-of-type {\n        vertical-align: middle;\n    }\n\n    .dataframe tbody tr th {\n        vertical-align: top;\n    }\n\n    .dataframe thead th {\n        text-align: right;\n    }\n</style>\n<table border=\"1\" class=\"dataframe\">\n  <thead>\n    <tr style=\"text-align: right;\">\n      <th></th>\n      <th>Neighborhood</th>\n      <th>1st Most Common Venue</th>\n      <th>2nd Most Common Venue</th>\n      <th>3rd Most Common Venue</th>\n      <th>4th Most Common Venue</th>\n      <th>5th Most Common Venue</th>\n      <th>6th Most Common Venue</th>\n      <th>7th Most Common Venue</th>\n      <th>8th Most Common Venue</th>\n      <th>9th Most Common Venue</th>\n      <th>10th Most Common Venue</th>\n    </tr>\n  </thead>\n  <tbody>\n    <tr>\n      <th>0</th>\n      <td>Adelaide, King, Richmond</td>\n      <td>Coffee Shop</td>\n      <td>Caf\u00e9</td>\n      <td>Steakhouse</td>\n      <td>American Restaurant</td>\n      <td>Thai Restaurant</td>\n      <td>Hotel</td>\n      <td>Burger Joint</td>\n      <td>Bar</td>\n      <td>Bakery</td>\n      <td>Gym</td>\n    </tr>\n    <tr>\n      <th>1</th>\n      <td>Berczy Park</td>\n      <td>Coffee Shop</td>\n      <td>Cocktail Bar</td>\n      <td>Bakery</td>\n      <td>Beer Bar</td>\n      <td>Steakhouse</td>\n      <td>Seafood Restaurant</td>\n      <td>Cheese Shop</td>\n      <td>Caf\u00e9</td>\n      <td>Farmers Market</td>\n      <td>Restaurant</td>\n    </tr>\n    <tr>\n      <th>2</th>\n      <td>Brockton, Exhibition Place, Parkdale Village</td>\n      <td>Caf\u00e9</td>\n      <td>Breakfast Spot</td>\n      <td>Coffee Shop</td>\n      <td>Grocery Store</td>\n      <td>Bar</td>\n      <td>Caribbean Restaurant</td>\n      <td>Italian Restaurant</td>\n      <td>Stadium</td>\n      <td>Furniture / Home Store</td>\n      <td>Burrito Place</td>\n    </tr>\n    <tr>\n      <th>3</th>\n      <td>Business Reply Mail Processing Centre 969 Eastern</td>\n      <td>Light Rail Station</td>\n      <td>Yoga Studio</td>\n      <td>Auto Workshop</td>\n      <td>Garden Center</td>\n      <td>Garden</td>\n      <td>Fast Food Restaurant</td>\n      <td>Farmers Market</td>\n      <td>Comic Shop</td>\n      <td>Park</td>\n      <td>Recording Studio</td>\n    </tr>\n    <tr>\n      <th>4</th>\n      <td>CN Tower, Bathurst Quay, Island airport, Harbo...</td>\n      <td>Airport Service</td>\n      <td>Airport Terminal</td>\n      <td>Airport Lounge</td>\n      <td>Plane</td>\n      <td>Sculpture Garden</td>\n      <td>Boutique</td>\n      <td>Boat or Ferry</td>\n      <td>Harbor / Marina</td>\n      <td>Airport Gate</td>\n      <td>Airport</td>\n    </tr>\n  </tbody>\n</table>\n</div>", 
                        "text/plain": "                                        Neighborhood 1st Most Common Venue  \\\n0                           Adelaide, King, Richmond           Coffee Shop   \n1                                        Berczy Park           Coffee Shop   \n2       Brockton, Exhibition Place, Parkdale Village                  Caf\u00e9   \n3  Business Reply Mail Processing Centre 969 Eastern    Light Rail Station   \n4  CN Tower, Bathurst Quay, Island airport, Harbo...       Airport Service   \n\n  2nd Most Common Venue 3rd Most Common Venue 4th Most Common Venue  \\\n0                  Caf\u00e9            Steakhouse   American Restaurant   \n1          Cocktail Bar                Bakery              Beer Bar   \n2        Breakfast Spot           Coffee Shop         Grocery Store   \n3           Yoga Studio         Auto Workshop         Garden Center   \n4      Airport Terminal        Airport Lounge                 Plane   \n\n  5th Most Common Venue 6th Most Common Venue 7th Most Common Venue  \\\n0       Thai Restaurant                 Hotel          Burger Joint   \n1            Steakhouse    Seafood Restaurant           Cheese Shop   \n2                   Bar  Caribbean Restaurant    Italian Restaurant   \n3                Garden  Fast Food Restaurant        Farmers Market   \n4      Sculpture Garden              Boutique         Boat or Ferry   \n\n  8th Most Common Venue   9th Most Common Venue 10th Most Common Venue  \n0                   Bar                  Bakery                    Gym  \n1                  Caf\u00e9          Farmers Market             Restaurant  \n2               Stadium  Furniture / Home Store          Burrito Place  \n3            Comic Shop                    Park       Recording Studio  \n4       Harbor / Marina            Airport Gate                Airport  "
                    }, 
                    "output_type": "execute_result"
                }
            ], 
            "source": "num_top_venues = 10\n\nindicators = ['st', 'nd', 'rd']\n\n# create columns according to number of top venues\ncolumns = ['Neighborhood']\nfor ind in np.arange(num_top_venues):\n    try:\n        columns.append('{}{} Most Common Venue'.format(ind+1, indicators[ind]))\n    except:\n        columns.append('{}th Most Common Venue'.format(ind+1))\n\n# create a new dataframe\nneighborhoods_venues_sorted = pd.DataFrame(columns=columns)\nneighborhoods_venues_sorted['Neighborhood'] = toronto_grouped['Neighborhood']\n\nfor ind in np.arange(toronto_grouped.shape[0]):\n    neighborhoods_venues_sorted.iloc[ind, 1:] = return_most_common_venues(toronto_grouped.iloc[ind, :], num_top_venues)\n\nprint(neighborhoods_venues_sorted.shape)\nneighborhoods_venues_sorted.head()"
        }, 
        {
            "source": "Calculate clustering using k-means algorithm.", 
            "cell_type": "markdown", 
            "metadata": {}
        }, 
        {
            "execution_count": 23, 
            "cell_type": "code", 
            "metadata": {}, 
            "outputs": [
                {
                    "execution_count": 23, 
                    "metadata": {}, 
                    "data": {
                        "text/plain": "array([1, 1, 1, 1, 1, 1, 1, 1, 1, 1, 1, 1, 1, 1, 1, 1, 1, 3, 1, 1, 1, 1, 1,\n       1, 0, 1, 1, 4, 2, 1, 1, 1, 1, 1, 1, 1, 1, 1], dtype=int32)"
                    }, 
                    "output_type": "execute_result"
                }
            ], 
            "source": "# set number of clusters\nkclusters = 5\ntoronto_grouped_clustering = toronto_grouped.drop('Neighborhood', 1)\n# run k-means clustering\nkmeans = KMeans(n_clusters=kclusters, random_state=0).fit(toronto_grouped_clustering)\n# check cluster labels generated for each row in the dataframe\nkmeans.labels_"
        }, 
        {
            "execution_count": 24, 
            "cell_type": "code", 
            "metadata": {}, 
            "outputs": [
                {
                    "output_type": "stream", 
                    "name": "stdout", 
                    "text": "(38, 16)\n"
                }, 
                {
                    "execution_count": 24, 
                    "metadata": {}, 
                    "data": {
                        "text/html": "<div>\n<style scoped>\n    .dataframe tbody tr th:only-of-type {\n        vertical-align: middle;\n    }\n\n    .dataframe tbody tr th {\n        vertical-align: top;\n    }\n\n    .dataframe thead th {\n        text-align: right;\n    }\n</style>\n<table border=\"1\" class=\"dataframe\">\n  <thead>\n    <tr style=\"text-align: right;\">\n      <th></th>\n      <th>PostalCode</th>\n      <th>Borough</th>\n      <th>Neighborhood</th>\n      <th>Latitude</th>\n      <th>Longitude</th>\n      <th>Cluster Labels</th>\n      <th>1st Most Common Venue</th>\n      <th>2nd Most Common Venue</th>\n      <th>3rd Most Common Venue</th>\n      <th>4th Most Common Venue</th>\n      <th>5th Most Common Venue</th>\n      <th>6th Most Common Venue</th>\n      <th>7th Most Common Venue</th>\n      <th>8th Most Common Venue</th>\n      <th>9th Most Common Venue</th>\n      <th>10th Most Common Venue</th>\n    </tr>\n  </thead>\n  <tbody>\n    <tr>\n      <th>0</th>\n      <td>M4E</td>\n      <td>East Toronto</td>\n      <td>The Beaches</td>\n      <td>43.676357</td>\n      <td>-79.293031</td>\n      <td>1</td>\n      <td>Music Venue</td>\n      <td>Health Food Store</td>\n      <td>Pub</td>\n      <td>Department Store</td>\n      <td>Event Space</td>\n      <td>Ethiopian Restaurant</td>\n      <td>Electronics Store</td>\n      <td>Eastern European Restaurant</td>\n      <td>Dumpling Restaurant</td>\n      <td>Donut Shop</td>\n    </tr>\n    <tr>\n      <th>1</th>\n      <td>M4K</td>\n      <td>East Toronto</td>\n      <td>The Danforth West, Riverdale</td>\n      <td>43.679557</td>\n      <td>-79.352188</td>\n      <td>1</td>\n      <td>Greek Restaurant</td>\n      <td>Coffee Shop</td>\n      <td>Ice Cream Shop</td>\n      <td>Bookstore</td>\n      <td>Furniture / Home Store</td>\n      <td>Italian Restaurant</td>\n      <td>Cosmetics Shop</td>\n      <td>Brewery</td>\n      <td>Bubble Tea Shop</td>\n      <td>Restaurant</td>\n    </tr>\n    <tr>\n      <th>2</th>\n      <td>M4L</td>\n      <td>East Toronto</td>\n      <td>The Beaches West, India Bazaar</td>\n      <td>43.668999</td>\n      <td>-79.315572</td>\n      <td>1</td>\n      <td>Sandwich Place</td>\n      <td>Park</td>\n      <td>Burger Joint</td>\n      <td>Italian Restaurant</td>\n      <td>Steakhouse</td>\n      <td>Fish &amp; Chips Shop</td>\n      <td>Fast Food Restaurant</td>\n      <td>Liquor Store</td>\n      <td>Brewery</td>\n      <td>Pet Store</td>\n    </tr>\n    <tr>\n      <th>3</th>\n      <td>M4M</td>\n      <td>East Toronto</td>\n      <td>Studio District</td>\n      <td>43.659526</td>\n      <td>-79.340923</td>\n      <td>1</td>\n      <td>Caf\u00e9</td>\n      <td>Coffee Shop</td>\n      <td>Bakery</td>\n      <td>Italian Restaurant</td>\n      <td>American Restaurant</td>\n      <td>Sandwich Place</td>\n      <td>Bar</td>\n      <td>Stationery Store</td>\n      <td>Fish Market</td>\n      <td>Latin American Restaurant</td>\n    </tr>\n    <tr>\n      <th>4</th>\n      <td>M4N</td>\n      <td>Central Toronto</td>\n      <td>Lawrence Park</td>\n      <td>43.728020</td>\n      <td>-79.388790</td>\n      <td>1</td>\n      <td>Park</td>\n      <td>Construction &amp; Landscaping</td>\n      <td>Swim School</td>\n      <td>Bus Line</td>\n      <td>Yoga Studio</td>\n      <td>Dim Sum Restaurant</td>\n      <td>Event Space</td>\n      <td>Ethiopian Restaurant</td>\n      <td>Electronics Store</td>\n      <td>Eastern European Restaurant</td>\n    </tr>\n  </tbody>\n</table>\n</div>", 
                        "text/plain": "  PostalCode          Borough                    Neighborhood   Latitude  \\\n0        M4E     East Toronto                     The Beaches  43.676357   \n1        M4K     East Toronto    The Danforth West, Riverdale  43.679557   \n2        M4L     East Toronto  The Beaches West, India Bazaar  43.668999   \n3        M4M     East Toronto                 Studio District  43.659526   \n4        M4N  Central Toronto                   Lawrence Park  43.728020   \n\n   Longitude  Cluster Labels 1st Most Common Venue  \\\n0 -79.293031               1           Music Venue   \n1 -79.352188               1      Greek Restaurant   \n2 -79.315572               1        Sandwich Place   \n3 -79.340923               1                  Caf\u00e9   \n4 -79.388790               1                  Park   \n\n        2nd Most Common Venue 3rd Most Common Venue 4th Most Common Venue  \\\n0           Health Food Store                   Pub      Department Store   \n1                 Coffee Shop        Ice Cream Shop             Bookstore   \n2                        Park          Burger Joint    Italian Restaurant   \n3                 Coffee Shop                Bakery    Italian Restaurant   \n4  Construction & Landscaping           Swim School              Bus Line   \n\n    5th Most Common Venue 6th Most Common Venue 7th Most Common Venue  \\\n0             Event Space  Ethiopian Restaurant     Electronics Store   \n1  Furniture / Home Store    Italian Restaurant        Cosmetics Shop   \n2              Steakhouse     Fish & Chips Shop  Fast Food Restaurant   \n3     American Restaurant        Sandwich Place                   Bar   \n4             Yoga Studio    Dim Sum Restaurant           Event Space   \n\n         8th Most Common Venue 9th Most Common Venue  \\\n0  Eastern European Restaurant   Dumpling Restaurant   \n1                      Brewery       Bubble Tea Shop   \n2                 Liquor Store               Brewery   \n3             Stationery Store           Fish Market   \n4         Ethiopian Restaurant     Electronics Store   \n\n        10th Most Common Venue  \n0                   Donut Shop  \n1                   Restaurant  \n2                    Pet Store  \n3    Latin American Restaurant  \n4  Eastern European Restaurant  "
                    }, 
                    "output_type": "execute_result"
                }
            ], 
            "source": "toronto_merged = toronto_df\n# add clustering labels\ntoronto_merged['Cluster Labels'] = kmeans.labels_\n# merge toronto_grouped with toronto_data to add latitude/longitude for each neighborhood\ntoronto_merged = toronto_merged.join(neighborhoods_venues_sorted.set_index('Neighborhood'), on='Neighborhood')\n\nprint(toronto_merged.shape)\ntoronto_merged.head() # check the last columns!"
        }, 
        {
            "execution_count": null, 
            "cell_type": "code", 
            "metadata": {}, 
            "outputs": [], 
            "source": "# create map\nmap_clusters = folium.Map(location=[latitude, longitude], zoom_start=11)\n\n# set color scheme for the clusters\nx = np.arange(kclusters)\nys = [i+x+(i*x)**2 for i in range(kclusters)]\ncolors_array = cm.rainbow(np.linspace(0, 1, len(ys)))\nrainbow = [colors.rgb2hex(i) for i in colors_array]\n\n# add markers to the map\nmarkers_colors = []\nfor lat, lon, poi, cluster in zip(toronto_merged['Latitude'], toronto_merged['Longitude'], \\\n                                  toronto_merged['Neighborhood'], toronto_merged['Cluster Labels']):\n    label = folium.Popup(str(poi) + ' Cluster ' + str(cluster), parse_html=True)\n    folium.CircleMarker(\n        [lat, lon],\n        radius=5,\n        popup=label,\n        color=rainbow[cluster-1],\n        fill=True,\n        fill_color=rainbow[cluster-1],\n        fill_opacity=0.7).add_to(map_clusters)\n       \nmap_clusters"
        }, 
        {
            "source": "Cluster 1", 
            "cell_type": "markdown", 
            "metadata": {}
        }, 
        {
            "execution_count": 26, 
            "cell_type": "code", 
            "metadata": {}, 
            "outputs": [
                {
                    "execution_count": 26, 
                    "metadata": {}, 
                    "data": {
                        "text/html": "<div>\n<style scoped>\n    .dataframe tbody tr th:only-of-type {\n        vertical-align: middle;\n    }\n\n    .dataframe tbody tr th {\n        vertical-align: top;\n    }\n\n    .dataframe thead th {\n        text-align: right;\n    }\n</style>\n<table border=\"1\" class=\"dataframe\">\n  <thead>\n    <tr style=\"text-align: right;\">\n      <th></th>\n      <th>Borough</th>\n      <th>Cluster Labels</th>\n      <th>1st Most Common Venue</th>\n      <th>2nd Most Common Venue</th>\n      <th>3rd Most Common Venue</th>\n      <th>4th Most Common Venue</th>\n      <th>5th Most Common Venue</th>\n      <th>6th Most Common Venue</th>\n      <th>7th Most Common Venue</th>\n      <th>8th Most Common Venue</th>\n      <th>9th Most Common Venue</th>\n      <th>10th Most Common Venue</th>\n    </tr>\n  </thead>\n  <tbody>\n    <tr>\n      <th>24</th>\n      <td>Central Toronto</td>\n      <td>0</td>\n      <td>Coffee Shop</td>\n      <td>Sandwich Place</td>\n      <td>Caf\u00e9</td>\n      <td>Pizza Place</td>\n      <td>Pharmacy</td>\n      <td>Liquor Store</td>\n      <td>Burger Joint</td>\n      <td>Jewish Restaurant</td>\n      <td>Flower Shop</td>\n      <td>BBQ Joint</td>\n    </tr>\n  </tbody>\n</table>\n</div>", 
                        "text/plain": "            Borough  Cluster Labels 1st Most Common Venue  \\\n24  Central Toronto               0           Coffee Shop   \n\n   2nd Most Common Venue 3rd Most Common Venue 4th Most Common Venue  \\\n24        Sandwich Place                  Caf\u00e9           Pizza Place   \n\n   5th Most Common Venue 6th Most Common Venue 7th Most Common Venue  \\\n24              Pharmacy          Liquor Store          Burger Joint   \n\n   8th Most Common Venue 9th Most Common Venue 10th Most Common Venue  \n24     Jewish Restaurant           Flower Shop              BBQ Joint  "
                    }, 
                    "output_type": "execute_result"
                }
            ], 
            "source": "toronto_merged.loc[toronto_merged['Cluster Labels'] == 0, \\\n                   toronto_merged.columns[[1] + list(range(5, toronto_merged.shape[1]))]]"
        }, 
        {
            "source": "Cluster 2", 
            "cell_type": "markdown", 
            "metadata": {}
        }, 
        {
            "execution_count": 27, 
            "cell_type": "code", 
            "metadata": {}, 
            "outputs": [
                {
                    "execution_count": 27, 
                    "metadata": {}, 
                    "data": {
                        "text/html": "<div>\n<style scoped>\n    .dataframe tbody tr th:only-of-type {\n        vertical-align: middle;\n    }\n\n    .dataframe tbody tr th {\n        vertical-align: top;\n    }\n\n    .dataframe thead th {\n        text-align: right;\n    }\n</style>\n<table border=\"1\" class=\"dataframe\">\n  <thead>\n    <tr style=\"text-align: right;\">\n      <th></th>\n      <th>Borough</th>\n      <th>Cluster Labels</th>\n      <th>1st Most Common Venue</th>\n      <th>2nd Most Common Venue</th>\n      <th>3rd Most Common Venue</th>\n      <th>4th Most Common Venue</th>\n      <th>5th Most Common Venue</th>\n      <th>6th Most Common Venue</th>\n      <th>7th Most Common Venue</th>\n      <th>8th Most Common Venue</th>\n      <th>9th Most Common Venue</th>\n      <th>10th Most Common Venue</th>\n    </tr>\n  </thead>\n  <tbody>\n    <tr>\n      <th>0</th>\n      <td>East Toronto</td>\n      <td>1</td>\n      <td>Music Venue</td>\n      <td>Health Food Store</td>\n      <td>Pub</td>\n      <td>Department Store</td>\n      <td>Event Space</td>\n      <td>Ethiopian Restaurant</td>\n      <td>Electronics Store</td>\n      <td>Eastern European Restaurant</td>\n      <td>Dumpling Restaurant</td>\n      <td>Donut Shop</td>\n    </tr>\n    <tr>\n      <th>1</th>\n      <td>East Toronto</td>\n      <td>1</td>\n      <td>Greek Restaurant</td>\n      <td>Coffee Shop</td>\n      <td>Ice Cream Shop</td>\n      <td>Bookstore</td>\n      <td>Furniture / Home Store</td>\n      <td>Italian Restaurant</td>\n      <td>Cosmetics Shop</td>\n      <td>Brewery</td>\n      <td>Bubble Tea Shop</td>\n      <td>Restaurant</td>\n    </tr>\n    <tr>\n      <th>2</th>\n      <td>East Toronto</td>\n      <td>1</td>\n      <td>Sandwich Place</td>\n      <td>Park</td>\n      <td>Burger Joint</td>\n      <td>Italian Restaurant</td>\n      <td>Steakhouse</td>\n      <td>Fish &amp; Chips Shop</td>\n      <td>Fast Food Restaurant</td>\n      <td>Liquor Store</td>\n      <td>Brewery</td>\n      <td>Pet Store</td>\n    </tr>\n    <tr>\n      <th>3</th>\n      <td>East Toronto</td>\n      <td>1</td>\n      <td>Caf\u00e9</td>\n      <td>Coffee Shop</td>\n      <td>Bakery</td>\n      <td>Italian Restaurant</td>\n      <td>American Restaurant</td>\n      <td>Sandwich Place</td>\n      <td>Bar</td>\n      <td>Stationery Store</td>\n      <td>Fish Market</td>\n      <td>Latin American Restaurant</td>\n    </tr>\n    <tr>\n      <th>4</th>\n      <td>Central Toronto</td>\n      <td>1</td>\n      <td>Park</td>\n      <td>Construction &amp; Landscaping</td>\n      <td>Swim School</td>\n      <td>Bus Line</td>\n      <td>Yoga Studio</td>\n      <td>Dim Sum Restaurant</td>\n      <td>Event Space</td>\n      <td>Ethiopian Restaurant</td>\n      <td>Electronics Store</td>\n      <td>Eastern European Restaurant</td>\n    </tr>\n    <tr>\n      <th>5</th>\n      <td>Central Toronto</td>\n      <td>1</td>\n      <td>Gym</td>\n      <td>Hotel</td>\n      <td>Sandwich Place</td>\n      <td>Park</td>\n      <td>Breakfast Spot</td>\n      <td>Clothing Store</td>\n      <td>Food &amp; Drink Shop</td>\n      <td>Discount Store</td>\n      <td>Dog Run</td>\n      <td>Doner Restaurant</td>\n    </tr>\n    <tr>\n      <th>6</th>\n      <td>Central Toronto</td>\n      <td>1</td>\n      <td>Clothing Store</td>\n      <td>Coffee Shop</td>\n      <td>Yoga Studio</td>\n      <td>Fast Food Restaurant</td>\n      <td>Pet Store</td>\n      <td>Chinese Restaurant</td>\n      <td>Rental Car Location</td>\n      <td>Dessert Shop</td>\n      <td>Salon / Barbershop</td>\n      <td>Diner</td>\n    </tr>\n    <tr>\n      <th>7</th>\n      <td>Central Toronto</td>\n      <td>1</td>\n      <td>Sandwich Place</td>\n      <td>Dessert Shop</td>\n      <td>Pizza Place</td>\n      <td>Coffee Shop</td>\n      <td>Italian Restaurant</td>\n      <td>Caf\u00e9</td>\n      <td>Sushi Restaurant</td>\n      <td>Gourmet Shop</td>\n      <td>Indian Restaurant</td>\n      <td>Seafood Restaurant</td>\n    </tr>\n    <tr>\n      <th>8</th>\n      <td>Central Toronto</td>\n      <td>1</td>\n      <td>Playground</td>\n      <td>Tennis Court</td>\n      <td>Trail</td>\n      <td>Yoga Studio</td>\n      <td>Doner Restaurant</td>\n      <td>Dim Sum Restaurant</td>\n      <td>Diner</td>\n      <td>Discount Store</td>\n      <td>Dog Run</td>\n      <td>Dumpling Restaurant</td>\n    </tr>\n    <tr>\n      <th>9</th>\n      <td>Central Toronto</td>\n      <td>1</td>\n      <td>Coffee Shop</td>\n      <td>Pub</td>\n      <td>Pizza Place</td>\n      <td>Sushi Restaurant</td>\n      <td>Bagel Shop</td>\n      <td>Fried Chicken Joint</td>\n      <td>Sports Bar</td>\n      <td>American Restaurant</td>\n      <td>Convenience Store</td>\n      <td>Vietnamese Restaurant</td>\n    </tr>\n    <tr>\n      <th>10</th>\n      <td>Downtown Toronto</td>\n      <td>1</td>\n      <td>Park</td>\n      <td>Playground</td>\n      <td>Trail</td>\n      <td>Yoga Studio</td>\n      <td>Dessert Shop</td>\n      <td>Event Space</td>\n      <td>Ethiopian Restaurant</td>\n      <td>Electronics Store</td>\n      <td>Eastern European Restaurant</td>\n      <td>Dumpling Restaurant</td>\n    </tr>\n    <tr>\n      <th>11</th>\n      <td>Downtown Toronto</td>\n      <td>1</td>\n      <td>Coffee Shop</td>\n      <td>Pub</td>\n      <td>Pizza Place</td>\n      <td>Restaurant</td>\n      <td>Caf\u00e9</td>\n      <td>Market</td>\n      <td>Italian Restaurant</td>\n      <td>Bakery</td>\n      <td>Playground</td>\n      <td>Liquor Store</td>\n    </tr>\n    <tr>\n      <th>12</th>\n      <td>Downtown Toronto</td>\n      <td>1</td>\n      <td>Coffee Shop</td>\n      <td>Japanese Restaurant</td>\n      <td>Gay Bar</td>\n      <td>Sushi Restaurant</td>\n      <td>Restaurant</td>\n      <td>Nightclub</td>\n      <td>Bubble Tea Shop</td>\n      <td>Men's Store</td>\n      <td>Caf\u00e9</td>\n      <td>Mediterranean Restaurant</td>\n    </tr>\n    <tr>\n      <th>13</th>\n      <td>Downtown Toronto</td>\n      <td>1</td>\n      <td>Coffee Shop</td>\n      <td>Caf\u00e9</td>\n      <td>Park</td>\n      <td>Pub</td>\n      <td>Bakery</td>\n      <td>Theater</td>\n      <td>Breakfast Spot</td>\n      <td>Mexican Restaurant</td>\n      <td>Event Space</td>\n      <td>Farmers Market</td>\n    </tr>\n    <tr>\n      <th>14</th>\n      <td>Downtown Toronto</td>\n      <td>1</td>\n      <td>Coffee Shop</td>\n      <td>Clothing Store</td>\n      <td>Cosmetics Shop</td>\n      <td>Caf\u00e9</td>\n      <td>Middle Eastern Restaurant</td>\n      <td>Restaurant</td>\n      <td>Tea Room</td>\n      <td>Sporting Goods Shop</td>\n      <td>Fast Food Restaurant</td>\n      <td>Pizza Place</td>\n    </tr>\n    <tr>\n      <th>15</th>\n      <td>Downtown Toronto</td>\n      <td>1</td>\n      <td>Coffee Shop</td>\n      <td>Hotel</td>\n      <td>Caf\u00e9</td>\n      <td>Restaurant</td>\n      <td>Cosmetics Shop</td>\n      <td>Italian Restaurant</td>\n      <td>Gastropub</td>\n      <td>Bakery</td>\n      <td>Breakfast Spot</td>\n      <td>Park</td>\n    </tr>\n    <tr>\n      <th>16</th>\n      <td>Downtown Toronto</td>\n      <td>1</td>\n      <td>Coffee Shop</td>\n      <td>Cocktail Bar</td>\n      <td>Bakery</td>\n      <td>Beer Bar</td>\n      <td>Steakhouse</td>\n      <td>Seafood Restaurant</td>\n      <td>Cheese Shop</td>\n      <td>Caf\u00e9</td>\n      <td>Farmers Market</td>\n      <td>Restaurant</td>\n    </tr>\n    <tr>\n      <th>18</th>\n      <td>Downtown Toronto</td>\n      <td>1</td>\n      <td>Coffee Shop</td>\n      <td>Caf\u00e9</td>\n      <td>Steakhouse</td>\n      <td>American Restaurant</td>\n      <td>Thai Restaurant</td>\n      <td>Hotel</td>\n      <td>Burger Joint</td>\n      <td>Bar</td>\n      <td>Bakery</td>\n      <td>Gym</td>\n    </tr>\n    <tr>\n      <th>19</th>\n      <td>Downtown Toronto</td>\n      <td>1</td>\n      <td>Coffee Shop</td>\n      <td>Hotel</td>\n      <td>Aquarium</td>\n      <td>Caf\u00e9</td>\n      <td>Italian Restaurant</td>\n      <td>Fried Chicken Joint</td>\n      <td>Scenic Lookout</td>\n      <td>Bakery</td>\n      <td>Restaurant</td>\n      <td>Brewery</td>\n    </tr>\n    <tr>\n      <th>20</th>\n      <td>Downtown Toronto</td>\n      <td>1</td>\n      <td>Coffee Shop</td>\n      <td>Hotel</td>\n      <td>Caf\u00e9</td>\n      <td>Restaurant</td>\n      <td>Gastropub</td>\n      <td>Seafood Restaurant</td>\n      <td>Deli / Bodega</td>\n      <td>Steakhouse</td>\n      <td>Italian Restaurant</td>\n      <td>American Restaurant</td>\n    </tr>\n    <tr>\n      <th>21</th>\n      <td>Downtown Toronto</td>\n      <td>1</td>\n      <td>Coffee Shop</td>\n      <td>Caf\u00e9</td>\n      <td>Hotel</td>\n      <td>Restaurant</td>\n      <td>American Restaurant</td>\n      <td>Bakery</td>\n      <td>Gastropub</td>\n      <td>Seafood Restaurant</td>\n      <td>Deli / Bodega</td>\n      <td>Steakhouse</td>\n    </tr>\n    <tr>\n      <th>22</th>\n      <td>Central Toronto</td>\n      <td>1</td>\n      <td>Garden</td>\n      <td>Dessert Shop</td>\n      <td>Falafel Restaurant</td>\n      <td>Event Space</td>\n      <td>Ethiopian Restaurant</td>\n      <td>Electronics Store</td>\n      <td>Eastern European Restaurant</td>\n      <td>Dumpling Restaurant</td>\n      <td>Donut Shop</td>\n      <td>Doner Restaurant</td>\n    </tr>\n    <tr>\n      <th>23</th>\n      <td>Central Toronto</td>\n      <td>1</td>\n      <td>Trail</td>\n      <td>Jewelry Store</td>\n      <td>Sushi Restaurant</td>\n      <td>Bus Line</td>\n      <td>Yoga Studio</td>\n      <td>Diner</td>\n      <td>Falafel Restaurant</td>\n      <td>Event Space</td>\n      <td>Ethiopian Restaurant</td>\n      <td>Electronics Store</td>\n    </tr>\n    <tr>\n      <th>25</th>\n      <td>Downtown Toronto</td>\n      <td>1</td>\n      <td>Caf\u00e9</td>\n      <td>Bookstore</td>\n      <td>Restaurant</td>\n      <td>Bar</td>\n      <td>Japanese Restaurant</td>\n      <td>Bakery</td>\n      <td>Noodle House</td>\n      <td>French Restaurant</td>\n      <td>Nightclub</td>\n      <td>Beer Store</td>\n    </tr>\n    <tr>\n      <th>26</th>\n      <td>Downtown Toronto</td>\n      <td>1</td>\n      <td>Caf\u00e9</td>\n      <td>Vegetarian / Vegan Restaurant</td>\n      <td>Bar</td>\n      <td>Coffee Shop</td>\n      <td>Mexican Restaurant</td>\n      <td>Bakery</td>\n      <td>Dumpling Restaurant</td>\n      <td>Vietnamese Restaurant</td>\n      <td>Chinese Restaurant</td>\n      <td>Cocktail Bar</td>\n    </tr>\n    <tr>\n      <th>29</th>\n      <td>Downtown Toronto</td>\n      <td>1</td>\n      <td>Caf\u00e9</td>\n      <td>Coffee Shop</td>\n      <td>Hotel</td>\n      <td>Deli / Bodega</td>\n      <td>Bar</td>\n      <td>Restaurant</td>\n      <td>Bakery</td>\n      <td>Burger Joint</td>\n      <td>Steakhouse</td>\n      <td>American Restaurant</td>\n    </tr>\n    <tr>\n      <th>30</th>\n      <td>Downtown Toronto</td>\n      <td>1</td>\n      <td>Grocery Store</td>\n      <td>Caf\u00e9</td>\n      <td>Park</td>\n      <td>Baby Store</td>\n      <td>Athletics &amp; Sports</td>\n      <td>Restaurant</td>\n      <td>Diner</td>\n      <td>Nightclub</td>\n      <td>Italian Restaurant</td>\n      <td>Coffee Shop</td>\n    </tr>\n    <tr>\n      <th>31</th>\n      <td>West Toronto</td>\n      <td>1</td>\n      <td>Pharmacy</td>\n      <td>Supermarket</td>\n      <td>Bakery</td>\n      <td>Music Venue</td>\n      <td>Pool</td>\n      <td>Middle Eastern Restaurant</td>\n      <td>Discount Store</td>\n      <td>Caf\u00e9</td>\n      <td>Brewery</td>\n      <td>Brazilian Restaurant</td>\n    </tr>\n    <tr>\n      <th>32</th>\n      <td>West Toronto</td>\n      <td>1</td>\n      <td>Bar</td>\n      <td>Coffee Shop</td>\n      <td>Asian Restaurant</td>\n      <td>Bakery</td>\n      <td>Restaurant</td>\n      <td>Caf\u00e9</td>\n      <td>Cocktail Bar</td>\n      <td>Pizza Place</td>\n      <td>Vietnamese Restaurant</td>\n      <td>New American Restaurant</td>\n    </tr>\n    <tr>\n      <th>33</th>\n      <td>West Toronto</td>\n      <td>1</td>\n      <td>Caf\u00e9</td>\n      <td>Breakfast Spot</td>\n      <td>Coffee Shop</td>\n      <td>Grocery Store</td>\n      <td>Bar</td>\n      <td>Caribbean Restaurant</td>\n      <td>Italian Restaurant</td>\n      <td>Stadium</td>\n      <td>Furniture / Home Store</td>\n      <td>Burrito Place</td>\n    </tr>\n    <tr>\n      <th>34</th>\n      <td>West Toronto</td>\n      <td>1</td>\n      <td>Mexican Restaurant</td>\n      <td>Caf\u00e9</td>\n      <td>Bar</td>\n      <td>Park</td>\n      <td>Bakery</td>\n      <td>Diner</td>\n      <td>Italian Restaurant</td>\n      <td>Cajun / Creole Restaurant</td>\n      <td>Fried Chicken Joint</td>\n      <td>Speakeasy</td>\n    </tr>\n    <tr>\n      <th>35</th>\n      <td>West Toronto</td>\n      <td>1</td>\n      <td>Breakfast Spot</td>\n      <td>Gift Shop</td>\n      <td>Restaurant</td>\n      <td>Dessert Shop</td>\n      <td>Eastern European Restaurant</td>\n      <td>Bar</td>\n      <td>Bank</td>\n      <td>Dog Run</td>\n      <td>Italian Restaurant</td>\n      <td>Movie Theater</td>\n    </tr>\n    <tr>\n      <th>36</th>\n      <td>West Toronto</td>\n      <td>1</td>\n      <td>Caf\u00e9</td>\n      <td>Pizza Place</td>\n      <td>Coffee Shop</td>\n      <td>Sushi Restaurant</td>\n      <td>Gym</td>\n      <td>Italian Restaurant</td>\n      <td>Fish &amp; Chips Shop</td>\n      <td>Food &amp; Drink Shop</td>\n      <td>Indie Movie Theater</td>\n      <td>Food</td>\n    </tr>\n    <tr>\n      <th>37</th>\n      <td>East Toronto</td>\n      <td>1</td>\n      <td>Light Rail Station</td>\n      <td>Yoga Studio</td>\n      <td>Auto Workshop</td>\n      <td>Garden Center</td>\n      <td>Garden</td>\n      <td>Fast Food Restaurant</td>\n      <td>Farmers Market</td>\n      <td>Comic Shop</td>\n      <td>Park</td>\n      <td>Recording Studio</td>\n    </tr>\n  </tbody>\n</table>\n</div>", 
                        "text/plain": "             Borough  Cluster Labels 1st Most Common Venue  \\\n0       East Toronto               1           Music Venue   \n1       East Toronto               1      Greek Restaurant   \n2       East Toronto               1        Sandwich Place   \n3       East Toronto               1                  Caf\u00e9   \n4    Central Toronto               1                  Park   \n5    Central Toronto               1                   Gym   \n6    Central Toronto               1        Clothing Store   \n7    Central Toronto               1        Sandwich Place   \n8    Central Toronto               1            Playground   \n9    Central Toronto               1           Coffee Shop   \n10  Downtown Toronto               1                  Park   \n11  Downtown Toronto               1           Coffee Shop   \n12  Downtown Toronto               1           Coffee Shop   \n13  Downtown Toronto               1           Coffee Shop   \n14  Downtown Toronto               1           Coffee Shop   \n15  Downtown Toronto               1           Coffee Shop   \n16  Downtown Toronto               1           Coffee Shop   \n18  Downtown Toronto               1           Coffee Shop   \n19  Downtown Toronto               1           Coffee Shop   \n20  Downtown Toronto               1           Coffee Shop   \n21  Downtown Toronto               1           Coffee Shop   \n22   Central Toronto               1                Garden   \n23   Central Toronto               1                 Trail   \n25  Downtown Toronto               1                  Caf\u00e9   \n26  Downtown Toronto               1                  Caf\u00e9   \n29  Downtown Toronto               1                  Caf\u00e9   \n30  Downtown Toronto               1         Grocery Store   \n31      West Toronto               1              Pharmacy   \n32      West Toronto               1                   Bar   \n33      West Toronto               1                  Caf\u00e9   \n34      West Toronto               1    Mexican Restaurant   \n35      West Toronto               1        Breakfast Spot   \n36      West Toronto               1                  Caf\u00e9   \n37      East Toronto               1    Light Rail Station   \n\n            2nd Most Common Venue 3rd Most Common Venue 4th Most Common Venue  \\\n0               Health Food Store                   Pub      Department Store   \n1                     Coffee Shop        Ice Cream Shop             Bookstore   \n2                            Park          Burger Joint    Italian Restaurant   \n3                     Coffee Shop                Bakery    Italian Restaurant   \n4      Construction & Landscaping           Swim School              Bus Line   \n5                           Hotel        Sandwich Place                  Park   \n6                     Coffee Shop           Yoga Studio  Fast Food Restaurant   \n7                    Dessert Shop           Pizza Place           Coffee Shop   \n8                    Tennis Court                 Trail           Yoga Studio   \n9                             Pub           Pizza Place      Sushi Restaurant   \n10                     Playground                 Trail           Yoga Studio   \n11                            Pub           Pizza Place            Restaurant   \n12            Japanese Restaurant               Gay Bar      Sushi Restaurant   \n13                           Caf\u00e9                  Park                   Pub   \n14                 Clothing Store        Cosmetics Shop                  Caf\u00e9   \n15                          Hotel                  Caf\u00e9            Restaurant   \n16                   Cocktail Bar                Bakery              Beer Bar   \n18                           Caf\u00e9            Steakhouse   American Restaurant   \n19                          Hotel              Aquarium                  Caf\u00e9   \n20                          Hotel                  Caf\u00e9            Restaurant   \n21                           Caf\u00e9                 Hotel            Restaurant   \n22                   Dessert Shop    Falafel Restaurant           Event Space   \n23                  Jewelry Store      Sushi Restaurant              Bus Line   \n25                      Bookstore            Restaurant                   Bar   \n26  Vegetarian / Vegan Restaurant                   Bar           Coffee Shop   \n29                    Coffee Shop                 Hotel         Deli / Bodega   \n30                           Caf\u00e9                  Park            Baby Store   \n31                    Supermarket                Bakery           Music Venue   \n32                    Coffee Shop      Asian Restaurant                Bakery   \n33                 Breakfast Spot           Coffee Shop         Grocery Store   \n34                           Caf\u00e9                   Bar                  Park   \n35                      Gift Shop            Restaurant          Dessert Shop   \n36                    Pizza Place           Coffee Shop      Sushi Restaurant   \n37                    Yoga Studio         Auto Workshop         Garden Center   \n\n          5th Most Common Venue      6th Most Common Venue  \\\n0                   Event Space       Ethiopian Restaurant   \n1        Furniture / Home Store         Italian Restaurant   \n2                    Steakhouse          Fish & Chips Shop   \n3           American Restaurant             Sandwich Place   \n4                   Yoga Studio         Dim Sum Restaurant   \n5                Breakfast Spot             Clothing Store   \n6                     Pet Store         Chinese Restaurant   \n7            Italian Restaurant                       Caf\u00e9   \n8              Doner Restaurant         Dim Sum Restaurant   \n9                    Bagel Shop        Fried Chicken Joint   \n10                 Dessert Shop                Event Space   \n11                         Caf\u00e9                     Market   \n12                   Restaurant                  Nightclub   \n13                       Bakery                    Theater   \n14    Middle Eastern Restaurant                 Restaurant   \n15               Cosmetics Shop         Italian Restaurant   \n16                   Steakhouse         Seafood Restaurant   \n18              Thai Restaurant                      Hotel   \n19           Italian Restaurant        Fried Chicken Joint   \n20                    Gastropub         Seafood Restaurant   \n21          American Restaurant                     Bakery   \n22         Ethiopian Restaurant          Electronics Store   \n23                  Yoga Studio                      Diner   \n25          Japanese Restaurant                     Bakery   \n26           Mexican Restaurant                     Bakery   \n29                          Bar                 Restaurant   \n30           Athletics & Sports                 Restaurant   \n31                         Pool  Middle Eastern Restaurant   \n32                   Restaurant                       Caf\u00e9   \n33                          Bar       Caribbean Restaurant   \n34                       Bakery                      Diner   \n35  Eastern European Restaurant                        Bar   \n36                          Gym         Italian Restaurant   \n37                       Garden       Fast Food Restaurant   \n\n          7th Most Common Venue        8th Most Common Venue  \\\n0             Electronics Store  Eastern European Restaurant   \n1                Cosmetics Shop                      Brewery   \n2          Fast Food Restaurant                 Liquor Store   \n3                           Bar             Stationery Store   \n4                   Event Space         Ethiopian Restaurant   \n5             Food & Drink Shop               Discount Store   \n6           Rental Car Location                 Dessert Shop   \n7              Sushi Restaurant                 Gourmet Shop   \n8                         Diner               Discount Store   \n9                    Sports Bar          American Restaurant   \n10         Ethiopian Restaurant            Electronics Store   \n11           Italian Restaurant                       Bakery   \n12              Bubble Tea Shop                  Men's Store   \n13               Breakfast Spot           Mexican Restaurant   \n14                     Tea Room          Sporting Goods Shop   \n15                    Gastropub                       Bakery   \n16                  Cheese Shop                         Caf\u00e9   \n18                 Burger Joint                          Bar   \n19               Scenic Lookout                       Bakery   \n20                Deli / Bodega                   Steakhouse   \n21                    Gastropub           Seafood Restaurant   \n22  Eastern European Restaurant          Dumpling Restaurant   \n23           Falafel Restaurant                  Event Space   \n25                 Noodle House            French Restaurant   \n26          Dumpling Restaurant        Vietnamese Restaurant   \n29                       Bakery                 Burger Joint   \n30                        Diner                    Nightclub   \n31               Discount Store                         Caf\u00e9   \n32                 Cocktail Bar                  Pizza Place   \n33           Italian Restaurant                      Stadium   \n34           Italian Restaurant    Cajun / Creole Restaurant   \n35                         Bank                      Dog Run   \n36            Fish & Chips Shop            Food & Drink Shop   \n37               Farmers Market                   Comic Shop   \n\n          9th Most Common Venue       10th Most Common Venue  \n0           Dumpling Restaurant                   Donut Shop  \n1               Bubble Tea Shop                   Restaurant  \n2                       Brewery                    Pet Store  \n3                   Fish Market    Latin American Restaurant  \n4             Electronics Store  Eastern European Restaurant  \n5                       Dog Run             Doner Restaurant  \n6            Salon / Barbershop                        Diner  \n7             Indian Restaurant           Seafood Restaurant  \n8                       Dog Run          Dumpling Restaurant  \n9             Convenience Store        Vietnamese Restaurant  \n10  Eastern European Restaurant          Dumpling Restaurant  \n11                   Playground                 Liquor Store  \n12                         Caf\u00e9     Mediterranean Restaurant  \n13                  Event Space               Farmers Market  \n14         Fast Food Restaurant                  Pizza Place  \n15               Breakfast Spot                         Park  \n16               Farmers Market                   Restaurant  \n18                       Bakery                          Gym  \n19                   Restaurant                      Brewery  \n20           Italian Restaurant          American Restaurant  \n21                Deli / Bodega                   Steakhouse  \n22                   Donut Shop             Doner Restaurant  \n23         Ethiopian Restaurant            Electronics Store  \n25                    Nightclub                   Beer Store  \n26           Chinese Restaurant                 Cocktail Bar  \n29                   Steakhouse          American Restaurant  \n30           Italian Restaurant                  Coffee Shop  \n31                      Brewery         Brazilian Restaurant  \n32        Vietnamese Restaurant      New American Restaurant  \n33       Furniture / Home Store                Burrito Place  \n34          Fried Chicken Joint                    Speakeasy  \n35           Italian Restaurant                Movie Theater  \n36          Indie Movie Theater                         Food  \n37                         Park             Recording Studio  "
                    }, 
                    "output_type": "execute_result"
                }
            ], 
            "source": "toronto_merged.loc[toronto_merged['Cluster Labels'] == 1, \\\n                   toronto_merged.columns[[1] + list(range(5, toronto_merged.shape[1]))]]"
        }, 
        {
            "source": "Cluster 3", 
            "cell_type": "markdown", 
            "metadata": {}
        }, 
        {
            "execution_count": 28, 
            "cell_type": "code", 
            "metadata": {}, 
            "outputs": [
                {
                    "execution_count": 28, 
                    "metadata": {}, 
                    "data": {
                        "text/html": "<div>\n<style scoped>\n    .dataframe tbody tr th:only-of-type {\n        vertical-align: middle;\n    }\n\n    .dataframe tbody tr th {\n        vertical-align: top;\n    }\n\n    .dataframe thead th {\n        text-align: right;\n    }\n</style>\n<table border=\"1\" class=\"dataframe\">\n  <thead>\n    <tr style=\"text-align: right;\">\n      <th></th>\n      <th>Borough</th>\n      <th>Cluster Labels</th>\n      <th>1st Most Common Venue</th>\n      <th>2nd Most Common Venue</th>\n      <th>3rd Most Common Venue</th>\n      <th>4th Most Common Venue</th>\n      <th>5th Most Common Venue</th>\n      <th>6th Most Common Venue</th>\n      <th>7th Most Common Venue</th>\n      <th>8th Most Common Venue</th>\n      <th>9th Most Common Venue</th>\n      <th>10th Most Common Venue</th>\n    </tr>\n  </thead>\n  <tbody>\n    <tr>\n      <th>28</th>\n      <td>Downtown Toronto</td>\n      <td>2</td>\n      <td>Coffee Shop</td>\n      <td>Restaurant</td>\n      <td>Caf\u00e9</td>\n      <td>Cocktail Bar</td>\n      <td>Seafood Restaurant</td>\n      <td>Beer Bar</td>\n      <td>Hotel</td>\n      <td>Pub</td>\n      <td>Breakfast Spot</td>\n      <td>Cheese Shop</td>\n    </tr>\n  </tbody>\n</table>\n</div>", 
                        "text/plain": "             Borough  Cluster Labels 1st Most Common Venue  \\\n28  Downtown Toronto               2           Coffee Shop   \n\n   2nd Most Common Venue 3rd Most Common Venue 4th Most Common Venue  \\\n28            Restaurant                  Caf\u00e9          Cocktail Bar   \n\n   5th Most Common Venue 6th Most Common Venue 7th Most Common Venue  \\\n28    Seafood Restaurant              Beer Bar                 Hotel   \n\n   8th Most Common Venue 9th Most Common Venue 10th Most Common Venue  \n28                   Pub        Breakfast Spot            Cheese Shop  "
                    }, 
                    "output_type": "execute_result"
                }
            ], 
            "source": "toronto_merged.loc[toronto_merged['Cluster Labels'] == 2, \\\n                   toronto_merged.columns[[1] + list(range(5, toronto_merged.shape[1]))]]"
        }, 
        {
            "source": "Cluster 4", 
            "cell_type": "markdown", 
            "metadata": {}
        }, 
        {
            "execution_count": 29, 
            "cell_type": "code", 
            "metadata": {}, 
            "outputs": [
                {
                    "execution_count": 29, 
                    "metadata": {}, 
                    "data": {
                        "text/html": "<div>\n<style scoped>\n    .dataframe tbody tr th:only-of-type {\n        vertical-align: middle;\n    }\n\n    .dataframe tbody tr th {\n        vertical-align: top;\n    }\n\n    .dataframe thead th {\n        text-align: right;\n    }\n</style>\n<table border=\"1\" class=\"dataframe\">\n  <thead>\n    <tr style=\"text-align: right;\">\n      <th></th>\n      <th>Borough</th>\n      <th>Cluster Labels</th>\n      <th>1st Most Common Venue</th>\n      <th>2nd Most Common Venue</th>\n      <th>3rd Most Common Venue</th>\n      <th>4th Most Common Venue</th>\n      <th>5th Most Common Venue</th>\n      <th>6th Most Common Venue</th>\n      <th>7th Most Common Venue</th>\n      <th>8th Most Common Venue</th>\n      <th>9th Most Common Venue</th>\n      <th>10th Most Common Venue</th>\n    </tr>\n  </thead>\n  <tbody>\n    <tr>\n      <th>17</th>\n      <td>Downtown Toronto</td>\n      <td>3</td>\n      <td>Coffee Shop</td>\n      <td>Caf\u00e9</td>\n      <td>Italian Restaurant</td>\n      <td>Burger Joint</td>\n      <td>Chinese Restaurant</td>\n      <td>Sandwich Place</td>\n      <td>Salad Place</td>\n      <td>Restaurant</td>\n      <td>Bubble Tea Shop</td>\n      <td>Bar</td>\n    </tr>\n  </tbody>\n</table>\n</div>", 
                        "text/plain": "             Borough  Cluster Labels 1st Most Common Venue  \\\n17  Downtown Toronto               3           Coffee Shop   \n\n   2nd Most Common Venue 3rd Most Common Venue 4th Most Common Venue  \\\n17                  Caf\u00e9    Italian Restaurant          Burger Joint   \n\n   5th Most Common Venue 6th Most Common Venue 7th Most Common Venue  \\\n17    Chinese Restaurant        Sandwich Place           Salad Place   \n\n   8th Most Common Venue 9th Most Common Venue 10th Most Common Venue  \n17            Restaurant       Bubble Tea Shop                    Bar  "
                    }, 
                    "output_type": "execute_result"
                }
            ], 
            "source": "toronto_merged.loc[toronto_merged['Cluster Labels'] == 3, \\\n                   toronto_merged.columns[[1] + list(range(5, toronto_merged.shape[1]))]]"
        }, 
        {
            "source": "Cluster 5", 
            "cell_type": "markdown", 
            "metadata": {}
        }, 
        {
            "execution_count": 30, 
            "cell_type": "code", 
            "metadata": {}, 
            "outputs": [
                {
                    "execution_count": 30, 
                    "metadata": {}, 
                    "data": {
                        "text/html": "<div>\n<style scoped>\n    .dataframe tbody tr th:only-of-type {\n        vertical-align: middle;\n    }\n\n    .dataframe tbody tr th {\n        vertical-align: top;\n    }\n\n    .dataframe thead th {\n        text-align: right;\n    }\n</style>\n<table border=\"1\" class=\"dataframe\">\n  <thead>\n    <tr style=\"text-align: right;\">\n      <th></th>\n      <th>Borough</th>\n      <th>Cluster Labels</th>\n      <th>1st Most Common Venue</th>\n      <th>2nd Most Common Venue</th>\n      <th>3rd Most Common Venue</th>\n      <th>4th Most Common Venue</th>\n      <th>5th Most Common Venue</th>\n      <th>6th Most Common Venue</th>\n      <th>7th Most Common Venue</th>\n      <th>8th Most Common Venue</th>\n      <th>9th Most Common Venue</th>\n      <th>10th Most Common Venue</th>\n    </tr>\n  </thead>\n  <tbody>\n    <tr>\n      <th>27</th>\n      <td>Downtown Toronto</td>\n      <td>4</td>\n      <td>Airport Service</td>\n      <td>Airport Terminal</td>\n      <td>Airport Lounge</td>\n      <td>Plane</td>\n      <td>Sculpture Garden</td>\n      <td>Boutique</td>\n      <td>Boat or Ferry</td>\n      <td>Harbor / Marina</td>\n      <td>Airport Gate</td>\n      <td>Airport</td>\n    </tr>\n  </tbody>\n</table>\n</div>", 
                        "text/plain": "             Borough  Cluster Labels 1st Most Common Venue  \\\n27  Downtown Toronto               4       Airport Service   \n\n   2nd Most Common Venue 3rd Most Common Venue 4th Most Common Venue  \\\n27      Airport Terminal        Airport Lounge                 Plane   \n\n   5th Most Common Venue 6th Most Common Venue 7th Most Common Venue  \\\n27      Sculpture Garden              Boutique         Boat or Ferry   \n\n   8th Most Common Venue 9th Most Common Venue 10th Most Common Venue  \n27       Harbor / Marina          Airport Gate                Airport  "
                    }, 
                    "output_type": "execute_result"
                }
            ], 
            "source": "toronto_merged.loc[toronto_merged['Cluster Labels'] == 4, \\\n                   toronto_merged.columns[[1] + list(range(5, toronto_merged.shape[1]))]]"
        }, 
        {
            "execution_count": null, 
            "cell_type": "code", 
            "metadata": {}, 
            "outputs": [], 
            "source": ""
        }
    ], 
    "metadata": {
        "kernelspec": {
            "display_name": "Python 3.5", 
            "name": "python3", 
            "language": "python"
        }, 
        "language_info": {
            "mimetype": "text/x-python", 
            "nbconvert_exporter": "python", 
            "version": "3.5.5", 
            "name": "python", 
            "file_extension": ".py", 
            "pygments_lexer": "ipython3", 
            "codemirror_mode": {
                "version": 3, 
                "name": "ipython"
            }
        }
    }, 
    "nbformat": 4
}